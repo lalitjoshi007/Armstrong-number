{
  "nbformat": 4,
  "nbformat_minor": 0,
  "metadata": {
    "colab": {
      "provenance": []
    },
    "kernelspec": {
      "name": "python3",
      "display_name": "Python 3"
    },
    "language_info": {
      "name": "python"
    }
  },
  "cells": [
    {
      "cell_type": "code",
      "execution_count": null,
      "metadata": {
        "id": "zX3qzbcfo9mh"
      },
      "outputs": [],
      "source": [
        "b=0\n",
        "c=[]\n",
        "a=int(input())\n",
        "a=str(a)\n",
        "for i in range(len(a)):\n",
        "    c.append(a[i])\n",
        "\n",
        "print(c)\n",
        "c=[int(char)for char in c]\n",
        "\n",
        "n=len(a)\n",
        "for i in range(n):\n",
        "    b+=pow(c[i],n)\n",
        "print(b)\n",
        "if int(a)==int(b):\n",
        "    print(\"Yes it is armstrong number\")\n",
        "else:\n",
        "    print(\"not armtrong number\")"
      ]
    }
  ]
}